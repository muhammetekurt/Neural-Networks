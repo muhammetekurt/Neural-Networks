{
  "nbformat": 4,
  "nbformat_minor": 0,
  "metadata": {
    "colab": {
      "name": "question_1.ipynb",
      "provenance": [],
      "collapsed_sections": []
    },
    "kernelspec": {
      "name": "python3",
      "display_name": "Python 3"
    },
    "language_info": {
      "name": "python"
    }
  },
  "cells": [
    {
      "cell_type": "code",
      "execution_count": null,
      "metadata": {
        "id": "VrrP6yU2uvnz"
      },
      "outputs": [],
      "source": [
        "import numpy as np\n",
        "import matplotlib.pyplot as plt\n",
        "import torch"
      ]
    },
    {
      "cell_type": "code",
      "source": [
        "x = np.array([[0, 0, 1],\n",
        "               [0, 1, 1],\n",
        "               [1, 0, 1],\n",
        "               [1, 1, 1]])"
      ],
      "metadata": {
        "id": "8GI9qZ4lu3tN"
      },
      "execution_count": null,
      "outputs": []
    },
    {
      "cell_type": "code",
      "source": [
        "y = np.array([[0],\n",
        "             [1],\n",
        "             [1],\n",
        "             [0]])"
      ],
      "metadata": {
        "id": "HOuF0lWNvTg-"
      },
      "execution_count": null,
      "outputs": []
    },
    {
      "cell_type": "code",
      "source": [
        "alpha = 0.05\n",
        "batch = 60000"
      ],
      "metadata": {
        "id": "VOPbWXQYvVer"
      },
      "execution_count": null,
      "outputs": []
    },
    {
      "cell_type": "code",
      "source": [
        "np.random.seed(1)"
      ],
      "metadata": {
        "id": "6tT26l7cvX-U"
      },
      "execution_count": null,
      "outputs": []
    },
    {
      "cell_type": "code",
      "source": [
        "# initalize tghe weights randomly \n",
        "\n",
        "w0 = 2*np.random.random((3,4)) -1 \n",
        "w1 = 2*np.random.random((4,1))"
      ],
      "metadata": {
        "id": "NXSFaBXNvZuw"
      },
      "execution_count": null,
      "outputs": []
    },
    {
      "cell_type": "code",
      "source": [
        "w0"
      ],
      "metadata": {
        "colab": {
          "base_uri": "https://localhost:8080/"
        },
        "id": "Sj_NsDeMvbtb",
        "outputId": "e74d8c69-b09f-4c2e-9c05-9a6a1ec91ae8"
      },
      "execution_count": null,
      "outputs": [
        {
          "output_type": "execute_result",
          "data": {
            "text/plain": [
              "array([[-0.16595599,  0.44064899, -0.99977125, -0.39533485],\n",
              "       [-0.70648822, -0.81532281, -0.62747958, -0.30887855],\n",
              "       [-0.20646505,  0.07763347, -0.16161097,  0.370439  ]])"
            ]
          },
          "metadata": {},
          "execution_count": 70
        }
      ]
    },
    {
      "cell_type": "code",
      "source": [
        "#eq #1 \n",
        "\n",
        "def sigmoid(z):\n",
        "  return 1 / (1 + np.exp( -z ))"
      ],
      "metadata": {
        "id": "l4XBbQ4qvd4u"
      },
      "execution_count": null,
      "outputs": []
    },
    {
      "cell_type": "code",
      "source": [
        "# sigmoid prime eq # 2\n",
        "def sigmoid_prime(z):\n",
        "  return (z * (1 - z))"
      ],
      "metadata": {
        "id": "atbJEdiFvfZ5"
      },
      "execution_count": null,
      "outputs": []
    },
    {
      "cell_type": "code",
      "source": [
        "for cntr in range(batch):\n",
        "\n",
        "  batch_x = x\n",
        "  batch_y = y\n",
        "  n = batch_x.shape[0]\n",
        "  a0 = batch_x \n",
        "  z1 = np.dot(a0, w0)\n",
        "  a1 = sigmoid(z1)\n",
        "  z2 = np.dot(a1, w1)\n",
        "\n",
        "  # second layer activation function values \n",
        "  a2 = sigmoid(z2)\n",
        "\n",
        "  l2_error = (a2 - batch_y)/n\n",
        "\n",
        "  if cntr % 1000 ==0:\n",
        "    print(\"Error: \", str(np.mean(np.mean(np.abs(l2_error)))))\n",
        "\n",
        "  # eq 6\n",
        "  l2_delta = l2_error * sigmoid_prime(a2)\n",
        "\n",
        "  l1_error = l2_delta.dot(w1.T)\n",
        "\n",
        "  # eq 7 \n",
        "  l1_delta = l1_error * sigmoid_prime(a1)\n",
        "\n",
        "  # eq #  5 \n",
        "  w1 -= alpha*a1.T.dot(l2_delta)\n",
        "  w0 -= alpha*a0.T.dot(l1_delta)"
      ],
      "metadata": {
        "id": "5p5c29zFvg7Y",
        "colab": {
          "base_uri": "https://localhost:8080/"
        },
        "outputId": "a8c3a3ba-36a2-461b-f1b5-3e705b4f7147"
      },
      "execution_count": null,
      "outputs": [
        {
          "output_type": "stream",
          "name": "stdout",
          "text": [
            "Error:  0.1250618367898453\n",
            "Error:  0.12446372096041358\n",
            "Error:  0.12399986380529311\n",
            "Error:  0.12347468780005759\n",
            "Error:  0.12278364990954943\n",
            "Error:  0.1218532290618716\n",
            "Error:  0.12061088425769725\n",
            "Error:  0.1189851542661564\n",
            "Error:  0.11691111978826303\n",
            "Error:  0.1143459372167783\n",
            "Error:  0.11129649387256549\n",
            "Error:  0.10784124604451059\n",
            "Error:  0.10411834446390673\n",
            "Error:  0.10027669137932102\n",
            "Error:  0.09642167702762255\n",
            "Error:  0.09258659509268624\n",
            "Error:  0.08872789465640307\n",
            "Error:  0.08470996879727595\n",
            "Error:  0.08024760637216116\n",
            "Error:  0.07502462807270359\n",
            "Error:  0.06928958771118274\n",
            "Error:  0.06364006729235633\n",
            "Error:  0.05838657692342017\n",
            "Error:  0.05363486802732428\n",
            "Error:  0.04940881085601442\n",
            "Error:  0.045687775837668185\n",
            "Error:  0.04242706350755031\n",
            "Error:  0.039572557014635815\n",
            "Error:  0.03706974265520989\n",
            "Error:  0.034868315453476975\n",
            "Error:  0.032923996190010484\n",
            "Error:  0.031198825084939638\n",
            "Error:  0.02966072829901764\n",
            "Error:  0.028282802449806646\n",
            "Error:  0.027042544346907303\n",
            "Error:  0.025921130345752455\n",
            "Error:  0.02490278511854941\n",
            "Error:  0.023974247844911752\n",
            "Error:  0.023124329547936293\n",
            "Error:  0.022343549952264345\n",
            "Error:  0.021623841195726023\n",
            "Error:  0.020958306583237645\n",
            "Error:  0.020341024127767265\n",
            "Error:  0.019766886305891053\n",
            "Error:  0.019231469014995367\n",
            "Error:  0.01873092406578686\n",
            "Error:  0.018261890663182657\n",
            "Error:  0.017821422239077726\n",
            "Error:  0.017406925731538212\n",
            "Error:  0.01701611098772248\n",
            "Error:  0.016646948430617328\n",
            "Error:  0.016297633496675058\n",
            "Error:  0.015966556642523742\n",
            "Error:  0.015652277950094756\n",
            "Error:  0.015353505543487068\n",
            "Error:  0.015069077177674778\n",
            "Error:  0.01479794447663909\n",
            "Error:  0.014539159392818189\n",
            "Error:  0.014291862535750268\n",
            "Error:  0.014055273079208848\n"
          ]
        }
      ]
    },
    {
      "cell_type": "code",
      "source": [
        "print(\"after training:\\n\")\n",
        "print(a2)"
      ],
      "metadata": {
        "colab": {
          "base_uri": "https://localhost:8080/"
        },
        "id": "-mWyVteExPAO",
        "outputId": "3d051ae4-51ce-451f-a147-9c5c01a40c17"
      },
      "execution_count": null,
      "outputs": [
        {
          "output_type": "stream",
          "name": "stdout",
          "text": [
            "after training:\n",
            "\n",
            "[[0.03677519]\n",
            " [0.94560411]\n",
            " [0.94258878]\n",
            " [0.07268013]]\n"
          ]
        }
      ]
    },
    {
      "cell_type": "code",
      "source": [
        "#q-1\n",
        "\n",
        "x1 = [1,1,0]\n",
        "x2 = [1,1,1]\n",
        "\n",
        "def testNN(myTester):\n",
        "\n",
        "  a0 = myTester \n",
        "  z1 = np.dot(a0, w0)\n",
        "  a1 = sigmoid(z1)\n",
        "  z2 = np.dot(a1, w1)\n",
        "  a2 = sigmoid(z2)\n",
        "\n",
        "  return a2\n",
        "\n",
        "#bizden istenilen testNN fonksiyonunu oluşturduk\n",
        "#fonksiyon bir adet parametre alıyor, o parametre değeri bize verilen x1 ve x2 değerlerini test etmek için kullanılıyor.\n",
        "\n",
        "myTest1 = testNN(x1)\n",
        "myTest2 = testNN(x2)\n",
        "\n",
        "print(\"x1 -> y1:\", myTest1)\n",
        "print(\"-------------------\\n\")\n",
        "print(\"x2 -> y2:\", myTest2)\n",
        "\n",
        "#burada ise x1 ve x2 değerlerini testNN fonksiyonuna yolluyorum, return değeri bana elde etmek istediğim sonucu veriyor ve sonucu ekrana print ediyorum.\n"
      ],
      "metadata": {
        "colab": {
          "base_uri": "https://localhost:8080/"
        },
        "id": "AIKA1fBnyIjt",
        "outputId": "c612f180-9a79-41ff-f710-d5e662521316"
      },
      "execution_count": null,
      "outputs": [
        {
          "output_type": "stream",
          "name": "stdout",
          "text": [
            "x1 -> y1: [0.17093142]\n",
            "-------------------\n",
            "\n",
            "x2 -> y2: [0.072679]\n"
          ]
        }
      ]
    }
  ]
}